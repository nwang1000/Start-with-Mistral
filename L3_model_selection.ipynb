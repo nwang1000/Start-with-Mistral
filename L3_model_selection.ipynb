{
 "cells": [
  {
   "cell_type": "markdown",
   "id": "f501ffce-f4f6-4701-8dd3-3ed32a5134ba",
   "metadata": {},
   "source": [
    "# Model Selection"
   ]
  },
  {
   "cell_type": "markdown",
   "id": "bd845946-a8c7-4e06-9ffe-dd893ee5e137",
   "metadata": {},
   "source": [
    "### Get API Key"
   ]
  },
  {
   "cell_type": "code",
   "execution_count": 1,
   "id": "4896b6d5-9e73-4fd1-9fc0-8a7cb93bb750",
   "metadata": {
    "height": 63
   },
   "outputs": [],
   "source": [
    "from helper import load_mistral_api_key\n",
    "api_key, dlai_endpoint = load_mistral_api_key(ret_key=True)"
   ]
  },
  {
   "cell_type": "markdown",
   "id": "d5800f02-c8a0-4e82-a4bd-ce6ddf7a26b7",
   "metadata": {},
   "source": [
    "- Note: in the classroom, if you print out this `api_key` variable, it is not a real API key (for security reasons).\n",
    "- If you wish to run this code on your own machine, outside of the classroom, you can still reuse the code that you see in `helper.py`.\n",
    "- It uses [python-dotenv](https://pypi.org/project/python-dotenv/) library to securely save and load sensitive information such as API keys."
   ]
  },
  {
   "cell_type": "code",
   "execution_count": 2,
   "id": "51403fae-91e9-4e24-9353-02495cb2babc",
   "metadata": {
    "height": 301
   },
   "outputs": [],
   "source": [
    "import os\n",
    "from mistralai.client import MistralClient\n",
    "from mistralai.models.chat_completion import ChatMessage\n",
    "\n",
    "def mistral(user_message, model=\"mistral-small-latest\", is_json=False):\n",
    "    client = MistralClient(api_key=api_key, endpoint=dlai_endpoint)\n",
    "    messages = [ChatMessage(role=\"user\", content=user_message)]\n",
    "\n",
    "    if is_json:\n",
    "        chat_response = client.chat(\n",
    "            model=model, messages=messages, response_format={\"type\": \"json_object\"}\n",
    "        )\n",
    "    else:\n",
    "        chat_response = client.chat(model=model, messages=messages)\n",
    "\n",
    "    return chat_response.choices[0].message.content"
   ]
  },
  {
   "cell_type": "markdown",
   "id": "03db3133-63d2-4cc7-b562-efce0991a143",
   "metadata": {},
   "source": [
    "## Mistral Small\n",
    "\n",
    "Good for simple tasks, fast inference, lower cost.\n",
    "- classification"
   ]
  },
  {
   "cell_type": "code",
   "execution_count": 33,
   "id": "18eaa6a5-6653-4587-8077-e409191c790b",
   "metadata": {
    "height": 182
   },
   "outputs": [],
   "source": [
    "prompt = \"\"\"\n",
    "Classify the following email to determine if it is spam or not.\n",
    "Only respond with the exact text \"Spam\" or \"Not Spam\". \n",
    "\n",
    "# Email:\n",
    "🎉 Urgent! You've Won a $1,000,000 Cash Prize! \n",
    "💰 To claim your prize, please click on the link below: \n",
    "https://bit.ly/claim-your-prize\n",
    "\"\"\""
   ]
  },
  {
   "cell_type": "code",
   "execution_count": 34,
   "id": "11cef6cd-bb24-46c5-9e83-2d81168057eb",
   "metadata": {
    "height": 30,
    "scrolled": true
   },
   "outputs": [
    {
     "data": {
      "text/plain": [
       "'Spam'"
      ]
     },
     "execution_count": 34,
     "metadata": {},
     "output_type": "execute_result"
    }
   ],
   "source": [
    "mistral(prompt, model=\"open-mixtral-8x7b\")"
   ]
  },
  {
   "cell_type": "markdown",
   "id": "6ac31f9e-8446-417c-aec8-598e141686bc",
   "metadata": {},
   "source": [
    "## Mistral Medium\n",
    "\n",
    "Good for intermediate tasks such as language transformation.\n",
    "- Composing text based on provided context (e.g. writing a customer service email based on purchase information)."
   ]
  },
  {
   "cell_type": "code",
   "execution_count": 35,
   "id": "87ce9677-a0a2-40ef-903d-571561c0fc65",
   "metadata": {
    "height": 267
   },
   "outputs": [],
   "source": [
    "prompt = \"\"\"\n",
    "Compose a welcome email for new customers who have just made \n",
    "their first purchase with your product. \n",
    "Start by expressing your gratitude for their business, \n",
    "and then convey your excitement for having them as a customer. \n",
    "Include relevant details about their recent order. \n",
    "Sign the email with \"The Fun Shop Team\".\n",
    "\n",
    "Order details:\n",
    "- Customer name: Anna\n",
    "- Product: hat \n",
    "- Estimate date of delivery: Feb. 25, 2024\n",
    "- Return policy: 30 days\n",
    "\"\"\""
   ]
  },
  {
   "cell_type": "code",
   "execution_count": 37,
   "id": "dcf36d8a",
   "metadata": {
    "height": 30
   },
   "outputs": [
    {
     "data": {
      "text/plain": [
       "\"Subject: 🎉 Welcome to The Fun Shop, Anna! 🎉\\n\\nDear Anna,\\n\\nThank you for choosing The Fun Shop for your recent purchase! We are thrilled to have you as a valued member of our community. Your support means the world to us, and we are grateful for your trust in our products.\\n\\nWe are excited to let you know that your stylish hat is on its way and is expected to reach you by February 25, 2024. We hope it brings you as much joy as we had creating it!\\n\\nIn case the hat doesn't meet your expectations, we offer a 30-day return policy. Your satisfaction is our top priority, and we want to make sure you're completely happy with your purchase.\\n\\nWe are committed to providing you with the best shopping experience possible. If you have any questions or need assistance, please don't hesitate to reach out to our friendly customer service team.\\n\\nOnce again, we appreciate your support and look forward to serving you in the future.\\n\\nWarm regards,\\n\\nThe Fun Shop Team\""
      ]
     },
     "execution_count": 37,
     "metadata": {},
     "output_type": "execute_result"
    }
   ],
   "source": [
    "mistral(prompt, model=\"open-mixtral-8x22b\")"
   ]
  },
  {
   "cell_type": "code",
   "execution_count": 6,
   "id": "1e0bb8a6-5be9-4a83-9413-14e154c845de",
   "metadata": {
    "height": 46
   },
   "outputs": [],
   "source": [
    "response_medium = mistral(prompt, model=\"mistral-medium-latest\")"
   ]
  },
  {
   "cell_type": "code",
   "execution_count": 7,
   "id": "6de3dada-f0e1-4dee-9a41-31cac83256b0",
   "metadata": {
    "height": 30
   },
   "outputs": [
    {
     "name": "stdout",
     "output_type": "stream",
     "text": [
      "Subject: Welcome to The Fun Shop, Anna! Thank you for your first purchase.\n",
      "\n",
      "Dear Anna,\n",
      "\n",
      "We would like to extend our warmest welcome and express our heartfelt gratitude for choosing to shop with us at The Fun Shop. We are thrilled to have you as a valued customer and are excited to be a part of your shopping journey.\n",
      "\n",
      "We are pleased to inform you that your order for the hat has been successfully placed and is being processed. Your estimated delivery date is Feb. 25, 2024. Rest assured that we will keep you updated on the status of your order and will do our best to ensure that it reaches you on time.\n",
      "\n",
      "In case you need to return or exchange your purchase, please note that we have a 30-day return policy. Our goal is to ensure that you are completely satisfied with your order, and we are committed to providing you with an exceptional shopping experience.\n",
      "\n",
      "Once again, thank you for choosing The Fun Shop. We look forward to serving you in the future and hope that you enjoy your new hat!\n",
      "\n",
      "Best regards,\n",
      "The Fun Shop Team\n"
     ]
    }
   ],
   "source": [
    "print(response_medium)"
   ]
  },
  {
   "cell_type": "markdown",
   "id": "9d3b2c99-c01a-4beb-8685-355f6c21ce55",
   "metadata": {},
   "source": [
    "## Mistral Large: \n",
    "\n",
    "Good for complex tasks that require advanced reasoning.\n",
    "- Math and reasoning with numbers."
   ]
  },
  {
   "cell_type": "code",
   "execution_count": 8,
   "id": "fc4c9957-48dc-46b8-bb6f-f506af1f768f",
   "metadata": {
    "height": 267
   },
   "outputs": [],
   "source": [
    "prompt = \"\"\"\n",
    "Calculate the difference in payment dates between the two \\\n",
    "customers whose payment amounts are closest to each other \\\n",
    "in the following dataset. Do not write code.\n",
    "\n",
    "# dataset: \n",
    "'{\n",
    "  \"transaction_id\":{\"0\":\"T1001\",\"1\":\"T1002\",\"2\":\"T1003\",\"3\":\"T1004\",\"4\":\"T1005\"},\n",
    "    \"customer_id\":{\"0\":\"C001\",\"1\":\"C002\",\"2\":\"C003\",\"3\":\"C002\",\"4\":\"C001\"},\n",
    "    \"payment_amount\":{\"0\":125.5,\"1\":89.99,\"2\":120.0,\"3\":54.3,\"4\":210.2},\n",
    "\"payment_date\":{\"0\":\"2021-10-05\",\"1\":\"2021-10-06\",\"2\":\"2021-10-07\",\"3\":\"2021-10-05\",\"4\":\"2021-10-08\"},\n",
    "    \"payment_status\":{\"0\":\"Paid\",\"1\":\"Unpaid\",\"2\":\"Paid\",\"3\":\"Paid\",\"4\":\"Pending\"}\n",
    "}'\n",
    "\"\"\""
   ]
  },
  {
   "cell_type": "code",
   "execution_count": 9,
   "id": "ba02ea8b-8872-4a7d-8195-6285e4b422a3",
   "metadata": {
    "height": 46
   },
   "outputs": [],
   "source": [
    "response_small = mistral(prompt, model=\"mistral-small-latest\")"
   ]
  },
  {
   "cell_type": "code",
   "execution_count": 10,
   "id": "74554e58-25a0-402d-95ad-8ada5c0cc743",
   "metadata": {
    "height": 30
   },
   "outputs": [
    {
     "name": "stdout",
     "output_type": "stream",
     "text": [
      "To find the customers whose payment amounts are closest to each other, we need to compare the payment amounts for all customers and identify the smallest difference between any two amounts.\n",
      "\n",
      "Here are the payment amounts from the dataset:\n",
      "- C001: 125.5\n",
      "- C002: 89.99\n",
      "- C003: 120.0\n",
      "- C002: 54.3\n",
      "- C001: 210.2\n",
      "\n",
      "Now, let's find the smallest difference between any two payment amounts:\n",
      "\n",
      "1. Difference between 125.5 and 89.99: 35.51\n",
      "2. Difference between 125.5 and 120.0: 5.5\n",
      "3. Difference between 125.5 and 54.3: 71.2\n",
      "4. Difference between 125.5 and 210.2: 84.7\n",
      "5. Difference between 89.99 and 120.0: 30.01\n",
      "6. Difference between 89.99 and 54.3: 35.69\n",
      "7. Difference between 89.99 and 210.2: 120.21\n",
      "8. Difference between 120.0 and 54.3: 65.7\n",
      "9. Difference between 120.0 and 210.2: 90.2\n",
      "10. Difference between 54.3 and 210.2: 155.9\n",
      "\n",
      "The smallest difference is between the payment amounts of 125.5 and 120.0, which is 5.5.\n",
      "\n",
      "Now, let's find the corresponding customers and their payment dates:\n",
      "- Customer C001 with payment amount 125.5, payment date: 2021-10-05\n",
      "- Customer C003 with payment amount 120.0, payment date: 2021-10-07\n",
      "\n",
      "The difference in payment dates between these two customers is 2 days (from 2021-10-05 to 2021-10-07).\n"
     ]
    }
   ],
   "source": [
    "print(response_small)"
   ]
  },
  {
   "cell_type": "code",
   "execution_count": 11,
   "id": "987a0aef-67dc-4ada-82ac-4b0dc1b6b5ae",
   "metadata": {
    "height": 46
   },
   "outputs": [],
   "source": [
    "response_large = mistral(prompt, model=\"mistral-large-latest\")"
   ]
  },
  {
   "cell_type": "code",
   "execution_count": 12,
   "id": "f21a55c1-c700-4bf3-be22-5ad432dc3f10",
   "metadata": {
    "height": 30
   },
   "outputs": [
    {
     "name": "stdout",
     "output_type": "stream",
     "text": [
      "To calculate the difference in payment dates between the two customers whose payment amounts are closest to each other, follow these steps:\n",
      "\n",
      "1. **Identify the payment amounts**:\n",
      "   - T1001: 125.5\n",
      "   - T1002: 89.99\n",
      "   - T1003: 120.0\n",
      "   - T1004: 54.3\n",
      "   - T1005: 210.2\n",
      "\n",
      "2. **Find the two closest payment amounts**:\n",
      "   - The closest payment amounts are 125.5 (T1001) and 120.0 (T1003).\n",
      "\n",
      "3. **Identify the payment dates for these transactions**:\n",
      "   - T1001: 2021-10-05\n",
      "   - T1003: 2021-10-07\n",
      "\n",
      "4. **Calculate the difference in payment dates**:\n",
      "   - The difference between 2021-10-05 and 2021-10-07 is 2 days.\n",
      "\n",
      "Therefore, the difference in payment dates between the two customers whose payment amounts are closest to each other is 2 days.\n"
     ]
    }
   ],
   "source": [
    "print(response_large)"
   ]
  },
  {
   "cell_type": "markdown",
   "id": "a15be44d-ecb4-47f6-bed5-5b08c6bc391a",
   "metadata": {},
   "source": [
    "## Expense reporting task"
   ]
  },
  {
   "cell_type": "code",
   "execution_count": 31,
   "id": "f7c1deb9-37f4-4182-b43c-3bad2637598c",
   "metadata": {
    "height": 352
   },
   "outputs": [],
   "source": [
    "transactions = \"\"\"\n",
    "McDonald's: 8.40\n",
    "Safeway: 10.30\n",
    "Carrefour: 15.00\n",
    "Toys R Us: 20.50\n",
    "Panda Express: 10.20\n",
    "Beanie Baby Outlet: 25.60\n",
    "World Food Wraps: 22.70\n",
    "Stuffed Animals Shop: 45.10\n",
    "Sanrio Store: 85.70\n",
    "\"\"\"\n",
    "\n",
    "prompt = f\"\"\"\n",
    "Given the purchase details, how much did I spend on each category:\n",
    "1) restaurants\n",
    "2) groceries\n",
    "3) stuffed animals and props\n",
    "{transactions}\n",
    "\"\"\""
   ]
  },
  {
   "cell_type": "code",
   "execution_count": 32,
   "id": "c534c567-cd20-4abb-adbc-cc9fe919c2f8",
   "metadata": {
    "height": 63
   },
   "outputs": [
    {
     "name": "stdout",
     "output_type": "stream",
     "text": [
      "Based on the purchase details you provided, the total amount spent on each category is as follows:\n",
      "\n",
      "1) Restaurants:\n",
      "\n",
      "* McDonald's: $8.40\n",
      "* Panda Express: $10.20\n",
      "Total spent on restaurants: $8.40 + $10.20 = $18.60\n",
      "\n",
      "2) Groceries:\n",
      "\n",
      "* Safeway: $10.30\n",
      "* Carrefour: $15.00\n",
      "* World Food Wraps: $22.70\n",
      "Total spent on groceries: $10.30 + $15.00 + $22.70 = $48.00\n",
      "\n",
      "3) Stuffed animals and props:\n",
      "\n",
      "* Toys R Us: $20.50 (assuming the purchase was for a stuffed animal or prop)\n",
      "* Beanie Baby Outlet: $25.60\n",
      "* Stuffed Animals Shop: $45.10\n",
      "* Sanrio Store: $85.70 (assuming the purchase was for a stuffed animal or prop)\n",
      "Total spent on stuffed animals and props: $20.50 + $25.60 + $45.10 + $85.70 = $177.10\n",
      "\n",
      "It is important to note that the classification of purchases in categories 1 and 3 is based on assumptions made on the names of the stores. If there were any specific details about the items purchased, the classification might be different.\n"
     ]
    }
   ],
   "source": [
    "response_small = mistral(prompt, model=\"open-mixtral-8x7b\")\n",
    "print(response_small)"
   ]
  },
  {
   "cell_type": "code",
   "execution_count": 15,
   "id": "47960a78-7689-47ee-adee-6c8412d5477b",
   "metadata": {
    "height": 63
   },
   "outputs": [
    {
     "name": "stdout",
     "output_type": "stream",
     "text": [
      "To determine how much you spent on each category, let's categorize the purchases:\n",
      "\n",
      "1) **Restaurants:**\n",
      "   - McDonald's: $8.40\n",
      "   - Panda Express: $10.20\n",
      "   - World Food Wraps: $22.70\n",
      "\n",
      "   Total spent on restaurants: $8.40 + $10.20 + $22.70 = $41.30\n",
      "\n",
      "2) **Groceries:**\n",
      "   - Safeway: $10.30\n",
      "   - Carrefour: $15.00\n",
      "\n",
      "   Total spent on groceries: $10.30 + $15.00 = $25.30\n",
      "\n",
      "3) **Stuffed Animals and Props:**\n",
      "   - Toys R Us: $20.50\n",
      "   - Beanie Baby Outlet: $25.60\n",
      "   - Stuffed Animals Shop: $45.10\n",
      "   - Sanrio Store: $85.70\n",
      "\n",
      "   Total spent on stuffed animals and props: $20.50 + $25.60 + $45.10 + $85.70 = $176.90\n",
      "\n",
      "So, the total amounts spent on each category are:\n",
      "- Restaurants: $41.30\n",
      "- Groceries: $25.30\n",
      "- Stuffed Animals and Props: $176.90\n"
     ]
    }
   ],
   "source": [
    "response_large = mistral(prompt, model=\"mistral-large-latest\")\n",
    "print(response_large)"
   ]
  },
  {
   "cell_type": "markdown",
   "id": "f90d6068-61b3-4490-aeb4-0be67ba9fd1b",
   "metadata": {},
   "source": [
    "## Writing and checking code"
   ]
  },
  {
   "cell_type": "code",
   "execution_count": 17,
   "id": "27945975-d2bc-40b9-9a59-48b10fe4da4b",
   "metadata": {
    "height": 250
   },
   "outputs": [],
   "source": [
    "user_message = \"\"\"\n",
    "Given an array of integers nums and an integer target, return indices of the two numbers such that they add up to target.\n",
    "\n",
    "You may assume that each input would have exactly one solution, and you may not use the same element twice.\n",
    "\n",
    "You can return the answer in any order.\n",
    "\n",
    "Your code should pass these tests:\n",
    "\n",
    "assert twoSum([2,7,11,15], 9) == [0,1]\n",
    "assert twoSum([3,2,4], 6) == [1,2]\n",
    "assert twoSum([3,3], 6) == [0,1]\n",
    "\"\"\""
   ]
  },
  {
   "cell_type": "code",
   "execution_count": 18,
   "id": "8e00a7bc-069a-43f9-bb02-e33a5d3dcc2f",
   "metadata": {
    "height": 46
   },
   "outputs": [
    {
     "name": "stdout",
     "output_type": "stream",
     "text": [
      "To solve the problem of finding two numbers in an array that add up to a given target, we can use a hash map (dictionary in Python) to keep track of the numbers we have seen so far and their corresponding indices. This approach allows us to achieve an efficient solution with a time complexity of O(n), where n is the number of elements in the array.\n",
      "\n",
      "Here's the step-by-step solution:\n",
      "\n",
      "1. Initialize an empty dictionary to store the numbers and their indices.\n",
      "2. Iterate through the array of numbers.\n",
      "3. For each number, calculate the complement that would add up to the target (complement = target - current number).\n",
      "4. Check if the complement is already in the dictionary.\n",
      "   - If it is, return the indices of the current number and the complement.\n",
      "   - If it is not, add the current number and its index to the dictionary.\n",
      "5. If no solution is found by the end of the loop, return an empty list (though the problem guarantees exactly one solution).\n",
      "\n",
      "Here is the Python code implementing this approach:\n",
      "\n",
      "```python\n",
      "def twoSum(nums, target):\n",
      "    num_to_index = {}\n",
      "    for index, num in enumerate(nums):\n",
      "        complement = target - num\n",
      "        if complement in num_to_index:\n",
      "            return [num_to_index[complement], index]\n",
      "        num_to_index[num] = index\n",
      "    return []\n",
      "\n",
      "# Test cases\n",
      "assert twoSum([2, 7, 11, 15], 9) == [0, 1]\n",
      "assert twoSum([3, 2, 4], 6) == [1, 2]\n",
      "assert twoSum([3, 3], 6) == [0, 1]\n",
      "```\n",
      "\n",
      "This code should pass all the provided test cases. The function `twoSum` takes an array `nums` and a target integer `target`, and returns the indices of the two numbers that add up to the target. The solution uses a dictionary to efficiently find the complement of each number as it iterates through the array.\n"
     ]
    }
   ],
   "source": [
    "print(mistral(user_message, model=\"mistral-large-latest\"))"
   ]
  },
  {
   "cell_type": "markdown",
   "id": "f8e007ef-17fb-450a-85d5-f456d06352e1",
   "metadata": {},
   "source": [
    "### Try out the code that the model provided\n",
    "- Copy the code that the model provided and try running it!\n",
    "\n",
    "Here is the code that was output at the time of filming:\n",
    "```Python\n",
    "def twoSum(nums, target):\n",
    "    seen = {}\n",
    "    for i, num in enumerate(nums):\n",
    "        complement = target - num\n",
    "        if complement in seen:\n",
    "            return [seen[complement], i]\n",
    "        seen[num] = i\n",
    "```\n",
    "- Also try running the assert statements in the original prompt\n",
    "```Python\n",
    "assert twoSum([2,7,11,15], 9) == [0,1]\n",
    "assert twoSum([3,2,4], 6) == [1,2]\n",
    "assert twoSum([3,3], 6) == [0,1]\n",
    "```"
   ]
  },
  {
   "cell_type": "code",
   "execution_count": 24,
   "id": "fcd58acf-fa92-431d-a08a-ce05c1e21003",
   "metadata": {
    "height": 132
   },
   "outputs": [],
   "source": [
    "def twoSum(nums, target):\n",
    "    seen = {}\n",
    "    for i, num in enumerate(nums):\n",
    "        complement = target - num\n",
    "        if complement in seen:\n",
    "            return [seen[complement], i]\n",
    "        seen[num] = i"
   ]
  },
  {
   "cell_type": "code",
   "execution_count": 25,
   "id": "49638589-88c6-439c-8192-65c511522fc1",
   "metadata": {
    "height": 30
   },
   "outputs": [
    {
     "data": {
      "text/plain": [
       "[0, 1]"
      ]
     },
     "execution_count": 25,
     "metadata": {},
     "output_type": "execute_result"
    }
   ],
   "source": [
    "twoSum([2,7,11,15], 9)"
   ]
  },
  {
   "cell_type": "code",
   "execution_count": 27,
   "id": "0f6ee692",
   "metadata": {
    "height": 30
   },
   "outputs": [
    {
     "data": {
      "text/plain": [
       "[1, 2]"
      ]
     },
     "execution_count": 27,
     "metadata": {},
     "output_type": "execute_result"
    }
   ],
   "source": [
    "twoSum([3,2,4], 6)"
   ]
  },
  {
   "cell_type": "code",
   "execution_count": 26,
   "id": "dc0bc495",
   "metadata": {
    "height": 149
   },
   "outputs": [],
   "source": [
    "def twoSum(nums, target):\n",
    "    num_to_index = {}\n",
    "    for index, num in enumerate(nums):\n",
    "        complement = target - num\n",
    "        if complement in num_to_index:\n",
    "            return [num_to_index[complement], index]\n",
    "        num_to_index[num] = index\n",
    "    return []"
   ]
  },
  {
   "cell_type": "markdown",
   "id": "3db8aa2a-aa1f-45f1-b4a4-d8eedc927677",
   "metadata": {},
   "source": [
    "## Natively Fluent in English, French, Spanish, German, and Italian\n",
    "- This means that you can use Mistral models for more than translating from one language to another.\n",
    "- If you are a native Spanish speaker, for instance, you can communicate with Mistral models in Spanish for any of your tasks."
   ]
  },
  {
   "cell_type": "code",
   "execution_count": 29,
   "id": "3cbad716-8da8-4c00-8eb1-889b69567986",
   "metadata": {
    "height": 80
   },
   "outputs": [],
   "source": [
    "user_message = \"\"\"\n",
    "Lequel est le plus lourd une livre de fer ou un kilogramme de plume\n",
    "\"\"\""
   ]
  },
  {
   "cell_type": "code",
   "execution_count": 30,
   "id": "72722d49-b12b-4334-bc1c-318874c57959",
   "metadata": {
    "height": 46,
    "scrolled": true
   },
   "outputs": [
    {
     "name": "stdout",
     "output_type": "stream",
     "text": [
      "La question semble être une énigme classique qui joue sur les unités de mesure.\n",
      "\n",
      "Une livre (pound en anglais) est une unité de mesure de poids. Une livre est équivalente à environ 453,592 grammes.\n",
      "\n",
      "Un kilogramme (kg) est également une unité de mesure de poids, et un kilogramme est équivalent à 1000 grammes.\n",
      "\n",
      "Donc, si on compare une livre de fer à un kilogramme de plumes :\n",
      "\n",
      "- Une livre de fer pèse environ 453,592 grammes.\n",
      "- Un kilogramme de plumes pèse 1000 grammes.\n",
      "\n",
      "Par conséquent, un kilogramme de plumes est plus lourd qu'une livre de fer.\n"
     ]
    }
   ],
   "source": [
    "print(mistral(user_message, model=\"mistral-large-latest\"))"
   ]
  },
  {
   "cell_type": "markdown",
   "id": "bd4f1e52-49d5-4d02-b85c-5bce23896a20",
   "metadata": {},
   "source": [
    "### Try it out for yourself\n",
    "- Try communicating with the Mistral Large model in Spanish\n",
    "  - (If you need help, you can first translate a prompt from English to Spanish, and then prompt the model in Spanish)."
   ]
  },
  {
   "cell_type": "markdown",
   "id": "dc301515-157c-450b-828e-554ee6760809",
   "metadata": {},
   "source": [
    "## List of Mistral models that you can call:\n",
    "\n",
    "You can also call the two open source mistral models via API calls.\n",
    "Here is the list of models that you can try:\n",
    "```\n",
    "open-mistral-7b\n",
    "open-mixtral-8x7b\n",
    "open-mixtral-8x22b\n",
    "mistral-small-latest\n",
    "mistral-medium-latest\n",
    "mistral-large-latest\n",
    "```\n",
    "\n",
    "For example:\n",
    "```Python\n",
    "mistral(prompt, model=\"open-mixtral-8x22b\")\n",
    "```\n",
    "\n",
    "Note that we just released the `open-mixtral-8x22b` model. Check out our [release blog](https://mistral.ai/news/mixtral-8x22b/) for details. "
   ]
  },
  {
   "cell_type": "code",
   "execution_count": null,
   "id": "6e316a8f-57fc-4774-980e-118c01239636",
   "metadata": {
    "height": 30
   },
   "outputs": [],
   "source": []
  }
 ],
 "metadata": {
  "kernelspec": {
   "display_name": "Python 3 (ipykernel)",
   "language": "python",
   "name": "python3"
  },
  "language_info": {
   "codemirror_mode": {
    "name": "ipython",
    "version": 3
   },
   "file_extension": ".py",
   "mimetype": "text/x-python",
   "name": "python",
   "nbconvert_exporter": "python",
   "pygments_lexer": "ipython3",
   "version": "3.11.9"
  }
 },
 "nbformat": 4,
 "nbformat_minor": 5
}
